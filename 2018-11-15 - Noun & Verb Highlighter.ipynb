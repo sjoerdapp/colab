{
  "nbformat": 4,
  "nbformat_minor": 0,
  "metadata": {
    "colab": {
      "name": "Markdown Guide",
      "version": "0.3.2",
      "provenance": [],
      "collapsed_sections": [],
      "toc_visible": true,
      "include_colab_link": true
    },
    "kernelspec": {
      "display_name": "Python 3",
      "name": "python3"
    }
  },
  "cells": [
    {
      "cell_type": "markdown",
      "metadata": {
        "id": "view-in-github",
        "colab_type": "text"
      },
      "source": [
        "<a href=\"https://colab.research.google.com/github/meaninginuse/Word2Vec/blob/master/2018-11-15%20-%20Noun%20&%20Verb%20Highlighter.ipynb\" target=\"_parent\"><img src=\"https://colab.research.google.com/assets/colab-badge.svg\" alt=\"Open In Colab\"/></a>"
      ]
    },
    {
      "metadata": {
        "id": "RUx1xJyhAAk7",
        "colab_type": "code",
        "colab": {}
      },
      "cell_type": "code",
      "source": [
        "#alphabetical test https://www.ling.upenn.edu/courses/Fall_2003/ling001/penn_treebank_pos.html\n",
        "#code source https://rebeccabilbro.github.io/colorizing-text-by-part-of-speech/"
      ],
      "execution_count": 0,
      "outputs": []
    },
    {
      "metadata": {
        "id": "zg4D6ouL_qrD",
        "colab_type": "code",
        "colab": {}
      },
      "cell_type": "code",
      "source": [
        "COLORS = {\n",
        "    'white'      : \"\\033[0;37m{}\\033[0m\",\n",
        "    'yellow'     : \"\\033[0;33m{}\\033[0m\",\n",
        "    'green'      : \"\\033[0;32m{}\\033[0m\",\n",
        "    'blue'       : \"\\033[0;34m{}\\033[0m\",\n",
        "    'cyan'       : \"\\033[0;36m{}\\033[0m\",\n",
        "    'red'        : \"\\033[0;31m{}\\033[0m\",\n",
        "    'magenta'    : \"\\033[0;35m{}\\033[0m\",\n",
        "    'black'      : \"\\033[0;30m{}\\033[0m\",\n",
        "    'darkwhite'  : \"\\033[1;37m{}\\033[0m\",\n",
        "    'darkyellow' : \"\\033[1;33m{}\\033[0m\",\n",
        "    'darkgreen'  : \"\\033[1;32m{}\\033[0m\",\n",
        "    'darkblue'   : \"\\033[1;34m{}\\033[0m\",\n",
        "    'darkcyan'   : \"\\033[1;36m{}\\033[0m\",\n",
        "    'darkred'    : \"\\033[1;31m{}\\033[0m\",\n",
        "    'darkmagenta': \"\\033[1;35m{}\\033[0m\",\n",
        "    'darkblack'  : \"\\033[1;30m{}\\033[0m\",\n",
        "    'off'        : \"\\033[0;0m{}\\033[0m\"\n",
        "}"
      ],
      "execution_count": 0,
      "outputs": []
    },
    {
      "metadata": {
        "id": "cVzyaQU__t_6",
        "colab_type": "code",
        "colab": {}
      },
      "cell_type": "code",
      "source": [
        "tag_map = {\n",
        "    'NN'   : 'green',\n",
        "    'NNS'  : 'green',\n",
        "    'NNP'  : 'green',\n",
        "    'NNPS' : 'green',\n",
        "    'VB'   : 'blue',\n",
        "    'VBD'  : 'blue',\n",
        "    'VBG'  : 'blue',\n",
        "    'VBN'  : 'blue',\n",
        "    'VBP'  : 'blue',\n",
        "    'VBZ'  : 'blue',\n",
        "    'JJ'   : 'black',\n",
        "    'JJR'  : 'black',\n",
        "    'JJS'  : 'black',\n",
        "    'RB'   : 'black',\n",
        "    'RBR'  : 'black',\n",
        "    'RBS'  : 'black',\n",
        "    'IN'   : 'black',\n",
        "    'POS'  : 'black',\n",
        "    'PRP$' : 'black',\n",
        "    'PRP$' : 'black',\n",
        "    'DT'   : 'black',\n",
        "    'CC'   : 'black',\n",
        "    'CD'   : 'black',\n",
        "    'WDT'  : 'black',\n",
        "    'WP'   : 'black',\n",
        "    'WP$'  : 'black',\n",
        "    'WRB'  : 'black',\n",
        "    'EX'   : 'black',\n",
        "    'FW'   : 'black',\n",
        "    'LS'   : 'black',\n",
        "    'MD'   : 'black',\n",
        "    'PDT'  : 'black',\n",
        "    'RP'   : 'black',\n",
        "    'SYM'  : 'black',\n",
        "    'TO'   : 'black',\n",
        "}"
      ],
      "execution_count": 0,
      "outputs": []
    },
    {
      "metadata": {
        "id": "kpP6qKtC_ynx",
        "colab_type": "code",
        "colab": {}
      },
      "cell_type": "code",
      "source": [
        "def colored(text, color=None):\n",
        "    \"\"\"\n",
        "    Colorize text\n",
        "    \"\"\"\n",
        "    if os.getenv('ANSI_COLORS_DISABLED') is None:\n",
        "        if color is not None:\n",
        "            text = COLORS[color].format(text)\n",
        "    return text"
      ],
      "execution_count": 0,
      "outputs": []
    },
    {
      "metadata": {
        "id": "cfU-zJpVI31u",
        "colab_type": "code",
        "colab": {}
      },
      "cell_type": "code",
      "source": [
        "import nltk\n",
        "nltk.download('punkt')\n",
        "nltk.download('averaged_perceptron_tagger')"
      ],
      "execution_count": 0,
      "outputs": []
    },
    {
      "metadata": {
        "id": "RbcQZfMO_1X9",
        "colab_type": "code",
        "colab": {}
      },
      "cell_type": "code",
      "source": [
        "import os\n",
        "from nltk.corpus import wordnet as wn\n",
        "from nltk import pos_tag, word_tokenize\n",
        "\n",
        "\n",
        "# Tokenize the text\n",
        "tokens = word_tokenize(text)\n",
        "\n",
        "# Part of speech tag the text and map to Treebank-tagged colors\n",
        "tagged = [\n",
        "  (tag_map.get(tag),token)\n",
        "  for token, tag in pos_tag(tokens)\n",
        "]\n",
        "text = (' '.join(\n",
        "  (colored(token, color)\n",
        "  for color, token in tagged)))"
      ],
      "execution_count": 0,
      "outputs": []
    },
    {
      "metadata": {
        "id": "ZgcFwwt1_6FD",
        "colab_type": "code",
        "outputId": "8848d557-dd2d-4d60-fd0a-170974b8aee3",
        "colab": {
          "base_uri": "https://localhost:8080/",
          "height": 34
        }
      },
      "cell_type": "code",
      "source": [
        "print(text)"
      ],
      "execution_count": 0,
      "outputs": [
        {
          "output_type": "stream",
          "text": [
            "\u001b[0;30minsert\u001b[0m \u001b[0;32mtext\u001b[0m \u001b[0;30mhere\u001b[0m \u001b[0;34mplease\u001b[0m\n"
          ],
          "name": "stdout"
        }
      ]
    },
    {
      "metadata": {
        "id": "FFlbgGNXANbZ",
        "colab_type": "code",
        "colab": {}
      },
      "cell_type": "code",
      "source": [
        "text = '''insert text here please '''"
      ],
      "execution_count": 0,
      "outputs": []
    },
    {
      "metadata": {
        "id": "U2-Byc6kSPue",
        "colab_type": "code",
        "colab": {}
      },
      "cell_type": "code",
      "source": [
        ""
      ],
      "execution_count": 0,
      "outputs": []
    }
  ]
}