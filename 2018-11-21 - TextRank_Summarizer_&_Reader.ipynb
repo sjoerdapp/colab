{
  "nbformat": 4,
  "nbformat_minor": 0,
  "metadata": {
    "colab": {
      "name": "2018_11_21 - TextRank Summarizer & Reader.ipynb",
      "version": "0.3.2",
      "provenance": [],
      "include_colab_link": true
    },
    "kernelspec": {
      "name": "python3",
      "display_name": "Python 3"
    }
  },
  "cells": [
    {
      "cell_type": "markdown",
      "metadata": {
        "id": "view-in-github",
        "colab_type": "text"
      },
      "source": [
        "<a href=\"https://colab.research.google.com/github/meaninginuse/Word2Vec/blob/master/2018_11_21_TextRank_Summarizer_&_Reader.ipynb\" target=\"_parent\"><img src=\"https://colab.research.google.com/assets/colab-badge.svg\" alt=\"Open In Colab\"/></a>"
      ]
    },
    {
      "metadata": {
        "id": "HAPmdXnq5ESj",
        "colab_type": "code",
        "colab": {}
      },
      "cell_type": "code",
      "source": [
        "#Combination of TextRank and Noun/Verb reader\n",
        "#https://github.com/summanlp/textrank\n",
        "#alphabetical test https://www.ling.upenn.edu/courses/Fall_2003/ling001/penn_treebank_pos.html\n",
        "#code source https://rebeccabilbro.github.io/colorizing-text-by-part-of-speech/"
      ],
      "execution_count": 0,
      "outputs": []
    },
    {
      "metadata": {
        "id": "9lVhxA4_7qYJ",
        "colab_type": "code",
        "outputId": "c7a41d56-6ebe-45d8-be49-69c14f039186",
        "colab": {
          "base_uri": "https://localhost:8080/",
          "height": 208
        }
      },
      "cell_type": "code",
      "source": [
        "!pip install summa"
      ],
      "execution_count": 1,
      "outputs": [
        {
          "output_type": "stream",
          "text": [
            "Collecting summa\n",
            "\u001b[?25l  Downloading https://files.pythonhosted.org/packages/b0/2b/b3cdc35b82a1f7d6439d547db47c4ce6e4e2080c20a262352088706da1d1/summa-1.1.0.tar.gz (48kB)\n",
            "\u001b[K    100% |████████████████████████████████| 51kB 3.2MB/s \n",
            "\u001b[?25hRequirement already satisfied: scipy>=0.19 in /usr/local/lib/python3.6/dist-packages (from summa) (1.1.0)\n",
            "Requirement already satisfied: numpy>=1.8.2 in /usr/local/lib/python3.6/dist-packages (from scipy>=0.19->summa) (1.14.6)\n",
            "Building wheels for collected packages: summa\n",
            "  Running setup.py bdist_wheel for summa ... \u001b[?25l-\b \bdone\n",
            "\u001b[?25h  Stored in directory: /root/.cache/pip/wheels/56/6e/9f/7be3e8cbc8dfa18c1db9eb2ee85e9ee1dcc91e38c4d4e8c969\n",
            "Successfully built summa\n",
            "Installing collected packages: summa\n",
            "Successfully installed summa-1.1.0\n"
          ],
          "name": "stdout"
        }
      ]
    },
    {
      "metadata": {
        "id": "C-5v8qtX7yyY",
        "colab_type": "code",
        "colab": {}
      },
      "cell_type": "code",
      "source": [
        "summary = \"\"\"\n",
        "insert text here\n",
        "\"\"\""
      ],
      "execution_count": 0,
      "outputs": []
    },
    {
      "metadata": {
        "id": "9BFlfgxe74-P",
        "colab_type": "code",
        "colab": {}
      },
      "cell_type": "code",
      "source": [
        "from summa.summarizer import summarize"
      ],
      "execution_count": 0,
      "outputs": []
    },
    {
      "metadata": {
        "id": "JsvL6WlW8g4K",
        "colab_type": "code",
        "colab": {}
      },
      "cell_type": "code",
      "source": [
        "text = (summarize(summary, ratio=0.1))"
      ],
      "execution_count": 0,
      "outputs": []
    },
    {
      "metadata": {
        "id": "-_jslmFTtYtO",
        "colab_type": "code",
        "colab": {
          "base_uri": "https://localhost:8080/",
          "height": 35
        },
        "outputId": "f3544b3d-4c44-413b-cb01-a7975698844f"
      },
      "cell_type": "code",
      "source": [
        "print(text)"
      ],
      "execution_count": 42,
      "outputs": [
        {
          "output_type": "stream",
          "text": [
            "\n"
          ],
          "name": "stdout"
        }
      ]
    },
    {
      "metadata": {
        "id": "rBdBxWF98jil",
        "colab_type": "code",
        "colab": {}
      },
      "cell_type": "code",
      "source": [
        "COLORS = {\n",
        "    'white'      : \"\\033[0;37m{}\\033[0m\",\n",
        "    'yellow'     : \"\\033[0;33m{}\\033[0m\",\n",
        "    'green'      : \"\\033[0;32m{}\\033[0m\",\n",
        "    'blue'       : \"\\033[0;34m{}\\033[0m\",\n",
        "    'cyan'       : \"\\033[0;36m{}\\033[0m\",\n",
        "    'red'        : \"\\033[0;31m{}\\033[0m\",\n",
        "    'magenta'    : \"\\033[0;35m{}\\033[0m\",\n",
        "    'black'      : \"\\033[0;30m{}\\033[0m\",\n",
        "    'darkwhite'  : \"\\033[1;37m{}\\033[0m\",\n",
        "    'darkyellow' : \"\\033[1;33m{}\\033[0m\",\n",
        "    'darkgreen'  : \"\\033[1;32m{}\\033[0m\",\n",
        "    'darkblue'   : \"\\033[1;34m{}\\033[0m\",\n",
        "    'darkcyan'   : \"\\033[1;36m{}\\033[0m\",\n",
        "    'darkred'    : \"\\033[1;31m{}\\033[0m\",\n",
        "    'darkmagenta': \"\\033[1;35m{}\\033[0m\",\n",
        "    'darkblack'  : \"\\033[1;30m{}\\033[0m\",\n",
        "    'off'        : \"\\033[0;0m{}\\033[0m\"\n",
        "}"
      ],
      "execution_count": 0,
      "outputs": []
    },
    {
      "metadata": {
        "id": "l2U-Mi4O82H1",
        "colab_type": "code",
        "colab": {}
      },
      "cell_type": "code",
      "source": [
        "tag_map = {\n",
        "    'NN'   : 'green',\n",
        "    'NNS'  : 'green',\n",
        "    'NNP'  : 'green',\n",
        "    'NNPS' : 'green',\n",
        "    'VB'   : 'blue',\n",
        "    'VBD'  : 'blue',\n",
        "    'VBG'  : 'blue',\n",
        "    'VBN'  : 'blue',\n",
        "    'VBP'  : 'blue',\n",
        "    'VBZ'  : 'blue',\n",
        "    'JJ'   : 'black',\n",
        "    'JJR'  : 'black',\n",
        "    'JJS'  : 'black',\n",
        "    'RB'   : 'black',\n",
        "    'RBR'  : 'black',\n",
        "    'RBS'  : 'black',\n",
        "    'IN'   : 'black',\n",
        "    'POS'  : 'black',\n",
        "    'PRP$' : 'black',\n",
        "    'PRP$' : 'black',\n",
        "    'DT'   : 'black',\n",
        "    'CC'   : 'black',\n",
        "    'CD'   : 'black',\n",
        "    'WDT'  : 'black',\n",
        "    'WP'   : 'black',\n",
        "    'WP$'  : 'black',\n",
        "    'WRB'  : 'black',\n",
        "    'EX'   : 'black',\n",
        "    'FW'   : 'black',\n",
        "    'LS'   : 'black',\n",
        "    'MD'   : 'black',\n",
        "    'PDT'  : 'black',\n",
        "    'RP'   : 'black',\n",
        "    'SYM'  : 'black',\n",
        "    'TO'   : 'black',\n",
        "}"
      ],
      "execution_count": 0,
      "outputs": []
    },
    {
      "metadata": {
        "id": "zbEFTN9384DW",
        "colab_type": "code",
        "colab": {}
      },
      "cell_type": "code",
      "source": [
        "def colored(text, color=None):\n",
        "    \"\"\"\n",
        "    Colorize text\n",
        "    \"\"\"\n",
        "    if os.getenv('ANSI_COLORS_DISABLED') is None:\n",
        "        if color is not None:\n",
        "            text = COLORS[color].format(text)\n",
        "    return text"
      ],
      "execution_count": 0,
      "outputs": []
    },
    {
      "metadata": {
        "id": "7sdYtb7g87H_",
        "colab_type": "code",
        "outputId": "72fdc249-2e33-4ac9-bc32-ce24f7a6dcb8",
        "colab": {
          "base_uri": "https://localhost:8080/",
          "height": 139
        }
      },
      "cell_type": "code",
      "source": [
        "import nltk\n",
        "nltk.download('punkt')\n",
        "nltk.download('averaged_perceptron_tagger')"
      ],
      "execution_count": 46,
      "outputs": [
        {
          "output_type": "stream",
          "text": [
            "[nltk_data] Downloading package punkt to /root/nltk_data...\n",
            "[nltk_data]   Package punkt is already up-to-date!\n",
            "[nltk_data] Downloading package averaged_perceptron_tagger to\n",
            "[nltk_data]     /root/nltk_data...\n",
            "[nltk_data]   Package averaged_perceptron_tagger is already up-to-\n",
            "[nltk_data]       date!\n"
          ],
          "name": "stdout"
        },
        {
          "output_type": "execute_result",
          "data": {
            "text/plain": [
              "True"
            ]
          },
          "metadata": {
            "tags": []
          },
          "execution_count": 46
        }
      ]
    },
    {
      "metadata": {
        "id": "3rh136Ye9IHs",
        "colab_type": "code",
        "outputId": "1eb89909-3700-496a-bd59-44b805a80a60",
        "colab": {
          "base_uri": "https://localhost:8080/",
          "height": 35
        }
      },
      "cell_type": "code",
      "source": [
        "import os\n",
        "from nltk.corpus import wordnet as wn\n",
        "from nltk import pos_tag, word_tokenize\n",
        "\n",
        "\n",
        "# Tokenize the text\n",
        "tokens = word_tokenize(text)\n",
        "\n",
        "# Part of speech tag the text and map to Treebank-tagged colors\n",
        "tagged = [\n",
        "  (tag_map.get(tag),token)\n",
        "  for token, tag in pos_tag(tokens)\n",
        "]\n",
        "text = (' '.join(\n",
        "  (colored(token, color)\n",
        "  for color, token in tagged)))\n",
        "\n",
        "print(len(tokens))"
      ],
      "execution_count": 47,
      "outputs": [
        {
          "output_type": "stream",
          "text": [
            "0\n"
          ],
          "name": "stdout"
        }
      ]
    },
    {
      "metadata": {
        "id": "z7oi_Fk09MHV",
        "colab_type": "code",
        "outputId": "c73c36c6-ded1-4cdb-87ec-749bcaef1d59",
        "colab": {
          "base_uri": "https://localhost:8080/",
          "height": 35
        }
      },
      "cell_type": "code",
      "source": [
        "print(text)"
      ],
      "execution_count": 48,
      "outputs": [
        {
          "output_type": "stream",
          "text": [
            "\n"
          ],
          "name": "stdout"
        }
      ]
    },
    {
      "metadata": {
        "id": "-SRminTL9Rqs",
        "colab_type": "code",
        "colab": {}
      },
      "cell_type": "code",
      "source": [
        ""
      ],
      "execution_count": 0,
      "outputs": []
    }
  ]
}
