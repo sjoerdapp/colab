{
  "nbformat": 4,
  "nbformat_minor": 0,
  "metadata": {
    "colab": {
      "name": "Untitled12.ipynb",
      "version": "0.3.2",
      "provenance": [],
      "include_colab_link": true
    },
    "kernelspec": {
      "name": "python3",
      "display_name": "Python 3"
    }
  },
  "cells": [
    {
      "cell_type": "markdown",
      "metadata": {
        "id": "view-in-github",
        "colab_type": "text"
      },
      "source": [
        "<a href=\"https://colab.research.google.com/github/meaninginuse/Word2Vec/blob/master/2018-11-19_Summa_TextRank.ipynb\" target=\"_parent\"><img src=\"https://colab.research.google.com/assets/colab-badge.svg\" alt=\"Open In Colab\"/></a>"
      ]
    },
    {
      "metadata": {
        "id": "0wz7_3d0BpDZ",
        "colab_type": "code",
        "colab": {}
      },
      "cell_type": "code",
      "source": [
        "#https://github.com/summanlp/textrank\n",
        "#not working well with Howard Marks because parser is struggling w/ setentcs "
      ],
      "execution_count": 0,
      "outputs": []
    },
    {
      "metadata": {
        "id": "BGZGcMWwBEO7",
        "colab_type": "code",
        "colab": {
          "base_uri": "https://localhost:8080/",
          "height": 208
        },
        "outputId": "b675ff6e-6a00-42eb-92a2-684fc6abe95d"
      },
      "cell_type": "code",
      "source": [
        "!pip install summa\n"
      ],
      "execution_count": 2,
      "outputs": [
        {
          "output_type": "stream",
          "text": [
            "Collecting summa\n",
            "\u001b[?25l  Downloading https://files.pythonhosted.org/packages/b0/2b/b3cdc35b82a1f7d6439d547db47c4ce6e4e2080c20a262352088706da1d1/summa-1.1.0.tar.gz (48kB)\n",
            "\u001b[K    100% |████████████████████████████████| 51kB 3.4MB/s \n",
            "\u001b[?25hRequirement already satisfied: scipy>=0.19 in /usr/local/lib/python3.6/dist-packages (from summa) (1.1.0)\n",
            "Requirement already satisfied: numpy>=1.8.2 in /usr/local/lib/python3.6/dist-packages (from scipy>=0.19->summa) (1.14.6)\n",
            "Building wheels for collected packages: summa\n",
            "  Running setup.py bdist_wheel for summa ... \u001b[?25l-\b \b\\\b \bdone\n",
            "\u001b[?25h  Stored in directory: /root/.cache/pip/wheels/56/6e/9f/7be3e8cbc8dfa18c1db9eb2ee85e9ee1dcc91e38c4d4e8c969\n",
            "Successfully built summa\n",
            "Installing collected packages: summa\n",
            "Successfully installed summa-1.1.0\n"
          ],
          "name": "stdout"
        }
      ]
    },
    {
      "metadata": {
        "id": "_xBI7UUHBE8O",
        "colab_type": "code",
        "colab": {}
      },
      "cell_type": "code",
      "source": [
        "text = \"\"\"Automatic summarization is the process of reducing a text document with a \\\n",
        "computer program in order to create a summary that retains the most important points \\\n",
        "of the original document. As the problem of information overload has grown, and as \\\n",
        "the quantity of data has increased, so has interest in automatic summarization. \\\n",
        "Technologies that can make a coherent summary take into account variables such as \\\n",
        "length, writing style and syntax. An example of the use of summarization technology \\\n",
        "is search engines such as Google. Document summarization is another.\"\"\"\n",
        "\n"
      ],
      "execution_count": 0,
      "outputs": []
    },
    {
      "metadata": {
        "id": "tNUyAqshBJ5M",
        "colab_type": "code",
        "colab": {
          "base_uri": "https://localhost:8080/",
          "height": 55
        },
        "outputId": "568b524a-54ce-4f48-dde4-d7956d0d1705"
      },
      "cell_type": "code",
      "source": [
        " print(summarizer.summarize(text,  split=True))"
      ],
      "execution_count": 25,
      "outputs": [
        {
          "output_type": "stream",
          "text": [
            "['Automatic summarization is the process of reducing a text document with a computer program in order to create a summary that retains the most important points of the original document.']\n"
          ],
          "name": "stdout"
        }
      ]
    },
    {
      "metadata": {
        "id": "BhEycP12BNFL",
        "colab_type": "code",
        "colab": {}
      },
      "cell_type": "code",
      "source": [
        ""
      ],
      "execution_count": 0,
      "outputs": []
    }
  ]
}
