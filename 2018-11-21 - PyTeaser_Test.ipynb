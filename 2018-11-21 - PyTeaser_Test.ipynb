{
  "nbformat": 4,
  "nbformat_minor": 0,
  "metadata": {
    "colab": {
      "name": "Forms",
      "version": "0.3.2",
      "provenance": [],
      "collapsed_sections": [],
      "toc_visible": true,
      "include_colab_link": true
    },
    "kernelspec": {}
  },
  "cells": [
    {
      "cell_type": "markdown",
      "metadata": {
        "id": "view-in-github",
        "colab_type": "text"
      },
      "source": [
        "<a href=\"https://colab.research.google.com/github/meaninginuse/Word2Vec/blob/master/2018_11_21_PyTeaser_Test.ipynb\" target=\"_parent\"><img src=\"https://colab.research.google.com/assets/colab-badge.svg\" alt=\"Open In Colab\"/></a>"
      ]
    },
    {
      "metadata": {
        "id": "rslfAYVvznVv",
        "colab_type": "code",
        "colab": {}
      },
      "cell_type": "code",
      "source": [
        "#https://rare-technologies.com/text-summarization-in-python-extractive-vs-abstractive-techniques-revisited/\n",
        "#pyteaser\n",
        "#https://github.com/xiaoxu193/PyTeaser\n",
        "#maybe useful at scale???"
      ],
      "execution_count": 0,
      "outputs": []
    },
    {
      "metadata": {
        "id": "Y0HCc5Wrzn49",
        "colab_type": "code",
        "colab": {
          "base_uri": "https://localhost:8080/",
          "height": 471
        },
        "outputId": "908f3ef8-7574-428c-fbea-4db8d6ac5a58"
      },
      "cell_type": "code",
      "source": [
        "!pip install pyteaser\n"
      ],
      "execution_count": 4,
      "outputs": [
        {
          "output_type": "stream",
          "text": [
            "Collecting pyteaser\n",
            "\u001b[?25l  Downloading https://files.pythonhosted.org/packages/d4/7a/310592c6e7998440e56a8650446ecf3ded076431415c60f0f3b946b54462/pyteaser-2.0.tar.gz (40kB)\n",
            "\u001b[K    100% |████████████████████████████████| 40kB 2.1MB/s \n",
            "\u001b[?25hRequirement already satisfied: Pillow in /usr/local/lib/python2.7/dist-packages (from pyteaser) (4.0.0)\n",
            "Collecting lxml (from pyteaser)\n",
            "\u001b[?25l  Downloading https://files.pythonhosted.org/packages/e5/14/f4343239f955442da9da1919a99f7311bc5627522741bada61b2349c8def/lxml-4.2.5-cp27-cp27mu-manylinux1_x86_64.whl (5.8MB)\n",
            "\u001b[K    100% |████████████████████████████████| 5.8MB 3.1MB/s \n",
            "\u001b[?25hCollecting cssselect (from pyteaser)\n",
            "  Downloading https://files.pythonhosted.org/packages/7b/44/25b7283e50585f0b4156960691d951b05d061abf4a714078393e51929b30/cssselect-1.0.3-py2.py3-none-any.whl\n",
            "Collecting jieba (from pyteaser)\n",
            "\u001b[?25l  Downloading https://files.pythonhosted.org/packages/71/46/c6f9179f73b818d5827202ad1c4a94e371a29473b7f043b736b4dab6b8cd/jieba-0.39.zip (7.3MB)\n",
            "\u001b[K    100% |████████████████████████████████| 7.3MB 3.5MB/s \n",
            "\u001b[?25hCollecting beautifulsoup (from pyteaser)\n",
            "  Downloading https://files.pythonhosted.org/packages/1e/ee/295988deca1a5a7accd783d0dfe14524867e31abb05b6c0eeceee49c759d/BeautifulSoup-3.2.1.tar.gz\n",
            "Requirement already satisfied: olefile in /usr/local/lib/python2.7/dist-packages (from Pillow->pyteaser) (0.46)\n",
            "Building wheels for collected packages: pyteaser, jieba, beautifulsoup\n",
            "  Running setup.py bdist_wheel for pyteaser ... \u001b[?25l-\b \bdone\n",
            "\u001b[?25h  Stored in directory: /root/.cache/pip/wheels/89/83/30/3325baa3ddc421ed9d35472d271adc825fad58bc2a453bc731\n",
            "  Running setup.py bdist_wheel for jieba ... \u001b[?25l-\b \b\\\b \b|\b \b/\b \b-\b \b\\\b \b|\b \b/\b \bdone\n",
            "\u001b[?25h  Stored in directory: /root/.cache/pip/wheels/c9/c7/63/a9ec0322ccc7c365fd51e475942a82395807186e94f0522243\n",
            "  Running setup.py bdist_wheel for beautifulsoup ... \u001b[?25l-\b \bdone\n",
            "\u001b[?25h  Stored in directory: /root/.cache/pip/wheels/74/d2/0b/8ef02aab9e15c6e5158d7aee909adab931a9c54920e99f468e\n",
            "Successfully built pyteaser jieba beautifulsoup\n",
            "Installing collected packages: lxml, cssselect, jieba, beautifulsoup, pyteaser\n",
            "Successfully installed beautifulsoup-3.2.1 cssselect-1.0.3 jieba-0.39 lxml-4.2.5 pyteaser-2.0\n"
          ],
          "name": "stdout"
        }
      ]
    },
    {
      "metadata": {
        "id": "pHhJYdCszxT7",
        "colab_type": "code",
        "colab": {
          "base_uri": "https://localhost:8080/",
          "height": 55
        },
        "outputId": "09da0f24-5efe-46ad-97ba-8e417bd88b5a"
      },
      "cell_type": "code",
      "source": [
        "from pyteaser import SummarizeUrl\n",
        "url = 'http://www.huffingtonpost.com/2013/11/22/twitter-forward-secrecy_n_4326599.html'\n",
        "summaries = SummarizeUrl(url)\n",
        "print summaries"
      ],
      "execution_count": 6,
      "outputs": [
        {
          "output_type": "stream",
          "text": [
            "[u\"Twitter's move is the latest response from U.S. Internet firms following disclosures by former spy agency contractor Edward Snowden about widespread, classified U.S. government surveillance programs.\", u'\"Since then, it has become clearer and clearer how important that step was to protecting our users\\' privacy.\"', u'\"A year and a half ago, Twitter was first served completely over HTTPS,\" the company said in a blog posting.', u'The online messaging service, which began scrambling communications in 2011 using traditional HTTPS encryption, said on Friday it has added an advanced layer of protection for HTTPS known as \"forward secrecy.\"', u'(Reuters) - Twitter Inc said it has implemented a security technology that makes it harder to spy on its users and called on other Internet firms to do the same, as Web providers look to thwart spying by government intelligence agencies.']\n"
          ],
          "name": "stdout"
        }
      ]
    },
    {
      "metadata": {
        "id": "PjHFdABOz-tC",
        "colab_type": "code",
        "colab": {}
      },
      "cell_type": "code",
      "source": [
        ""
      ],
      "execution_count": 0,
      "outputs": []
    }
  ]
}
